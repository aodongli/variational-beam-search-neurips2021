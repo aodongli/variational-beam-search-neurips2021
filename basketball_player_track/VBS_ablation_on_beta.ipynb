{
 "cells": [
  {
   "cell_type": "code",
   "execution_count": 1,
   "metadata": {},
   "outputs": [],
   "source": [
    "%load_ext autoreload\n",
    "%autoreload 2\n",
    "\n",
    "import os\n",
    "import sys\n",
    "import numpy as np\n",
    "from scipy import stats\n",
    "\n",
    "import matplotlib\n",
    "matplotlib.rcParams['pdf.fonttype'] = 42\n",
    "matplotlib.rcParams['ps.fonttype'] = 42\n",
    "matplotlib.rcParams['text.usetex'] = True\n",
    "matplotlib.rc('text.latex', preamble=r'\\usepackage{amsmath}\\usepackage{amssymb}')\n",
    "import matplotlib.pyplot as plt\n",
    "\n",
    "old_stdout = sys.stdout"
   ]
  },
  {
   "cell_type": "code",
   "execution_count": 2,
   "metadata": {},
   "outputs": [],
   "source": [
    "from src.game import Game\n",
    "from src.player_track import PlayerTracking\n",
    "from src.vbs import print_log, BeamSearchHelper, get_beam_search_helper"
   ]
  },
  {
   "cell_type": "code",
   "execution_count": 3,
   "metadata": {},
   "outputs": [],
   "source": [
    "# dataset\n",
    "meta_tr_pos_set = np.load('data/meta_tr_pos_set_conn.npy', allow_pickle=True)\n",
    "meta_te_pos_set = np.load('data/meta_te_pos_set_conn.npy', allow_pickle=True)"
   ]
  },
  {
   "cell_type": "code",
   "execution_count": 4,
   "metadata": {},
   "outputs": [],
   "source": [
    "def train_and_test(pos_set, sigma_n2, p, beta, beam_size=1, verbose=False):\n",
    "    x_olds, x_curs, x_news = pos_set[:-2], pos_set[1:-1], pos_set[2:]\n",
    "    folder_name = f'./ckpt/div_beam/validation/ckpt_vbs_p{p}_beta{beta}_sigma{sigma_n2}_b{beam_size}/'\n",
    "#     if verbose:\n",
    "#         os.mkdir(folder_name)\n",
    "#         sys.stdout = open(folder_name + '/out.txt', 'a')\n",
    "    prior_logodds = np.log(p/(1-p))\n",
    "    bsh = get_beam_search_helper(folder_name + '/helper.pkl', \n",
    "                                 save_folder=folder_name, \n",
    "                                 beam_size=beam_size, \n",
    "                                 diffusion=beta, \n",
    "                                 jump_bias=prior_logodds,\n",
    "                                 permanent_store_every_tasks=40,\n",
    "                                 verbose=verbose)\n",
    "\n",
    "    logp_preds, logp_preds_1st = [], []\n",
    "    for task_id, (x_old, x_cur, x_new) in enumerate(zip(x_olds, x_curs, x_news)):\n",
    "        if (task_id+1) % 2000 == 0:\n",
    "            print('='*75)\n",
    "            print_log(f\"Start task {task_id}.\")\n",
    "\n",
    "        if task_id <= bsh.task_id:\n",
    "            print_log(f\"Task {task_id} is already trained. Skip training.\")\n",
    "            continue\n",
    "\n",
    "        hypotheses = bsh.get_new_hypotheses_args(x_old, x_cur, x_new)\n",
    "\n",
    "        param_set, elbos, test_y_preds = [], [], []\n",
    "        num_hypotheses = len(hypotheses)\n",
    "        for hypothesis in hypotheses:\n",
    "            (model_name,\n",
    "            s_t,\n",
    "            diffusion,\n",
    "            [mu, Lambda],\n",
    "            x_old, \n",
    "            x_cur, \n",
    "            x_new) = hypothesis\n",
    "\n",
    "            # initialization\n",
    "            track_model = PlayerTracking(sigma_n2=sigma_n2, mu=mu, Lambda=Lambda)\n",
    "\n",
    "            # broaden if required\n",
    "            if s_t == 1:\n",
    "                track_model.broaden_temper(diffusion) # beta = diffusion\n",
    "\n",
    "            # compute predictive probability\n",
    "            log_marginal_likelihood = track_model.log_marginal_likelihood(x_old, x_cur)\n",
    "            elbos.append(log_marginal_likelihood)\n",
    "\n",
    "            # absorb new evidence\n",
    "            track_model.update(x_old, x_cur, compute_cov=True)\n",
    "\n",
    "            # save weights\n",
    "            param = track_model.get_params()\n",
    "            param_set.append(param)\n",
    "\n",
    "            test_y_preds.append(track_model.log_marginal_likelihood(x_cur, x_new))\n",
    "\n",
    "        bsh.absorb_new_evidence_and_prune_beams(elbos, param_set)\n",
    "\n",
    "        test_y_pred = bsh.weighted_test_probability(test_y_preds)\n",
    "        logp_preds.append(test_y_pred)\n",
    "        # most likely probability\n",
    "        test_y_pred_1st = test_y_preds[bsh._indices[0]]\n",
    "        logp_preds_1st.append(test_y_pred_1st)\n",
    "\n",
    "    return logp_preds, logp_preds_1st, bsh"
   ]
  },
  {
   "cell_type": "code",
   "execution_count": 5,
   "metadata": {},
   "outputs": [
    {
     "data": {
      "text/plain": [
       "(0.0, 100.0)"
      ]
     },
     "execution_count": 5,
     "metadata": {},
     "output_type": "execute_result"
    }
   ],
   "source": [
    "# select one dataset\n",
    "pos = meta_te_pos_set[8]\n",
    "\n",
    "x = pos[:,0]\n",
    "y = pos[:,1]\n",
    "t = np.arange(len(x))\n",
    "\n",
    "# initialize plot\n",
    "fig = plt.Figure(figsize=(7, 5))\n",
    "ax = fig.subplots(1,1)\n",
    "\n",
    "# read in the court png file\n",
    "court = plt.imread(\"court.png\")\n",
    "\n",
    "# Plot the movemnts as scatter plot\n",
    "\n",
    "skip_num = 2 # plot once every `skip_num`\n",
    "ax.scatter(x[::skip_num], y[::skip_num], s=10, zorder=1, alpha=0.5, label='Player Trajectory')\n",
    "\n",
    "ax.set_xlim(0,100)"
   ]
  },
  {
   "cell_type": "code",
   "execution_count": 6,
   "metadata": {},
   "outputs": [],
   "source": [
    "def vbs_run(beam_size, beta, color_name, marker='o', alpha=0.6, markersize=30):\n",
    "    # look at the changepoints\n",
    "    beam_size = beam_size\n",
    "    sigma_n2 = 0.1\n",
    "    p = 0.503\n",
    "    beta = beta\n",
    "    verbose = False\n",
    "\n",
    "    pos = meta_te_pos_set[8]\n",
    "\n",
    "    meta_logp_preds, meta_logp_preds_1st = [], []\n",
    "    logp_preds, logp_preds_1st, bsh = train_and_test(pos, sigma_n2=sigma_n2, p=p, beta=beta, beam_size=beam_size, verbose=verbose)\n",
    "    meta_logp_preds.append(np.mean(logp_preds))\n",
    "    meta_logp_preds_1st.append(np.mean(logp_preds_1st))\n",
    "    print('Finished. Average log predictive probability and the one of the most probable component:', np.mean(meta_logp_preds), np.mean(meta_logp_preds_1st))\n",
    "\n",
    "    s_t = bsh.latest_task_res[0]['decisions']\n",
    "    s_t = np.array(list(s_t))\n",
    "    cp_indices = np.where(s_t == '1')[0]\n",
    "    cp_indices += 1\n",
    "\n",
    "    # Plot changepoints\n",
    "    x_cp = x[cp_indices]\n",
    "    y_cp = y[cp_indices]\n",
    "    ax.scatter(x_cp, y_cp, c=color_name, marker=marker, s=markersize, zorder=1, alpha=alpha, label=f'Detected Changepoints ($\\\\beta={beta}$)')"
   ]
  },
  {
   "cell_type": "code",
   "execution_count": 7,
   "metadata": {},
   "outputs": [
    {
     "name": "stdout",
     "output_type": "stream",
     "text": [
      "Finished. Average log predictive probability and the one of the most probable component: 0.23878806047846873 0.23878806047846873\n",
      "Finished. Average log predictive probability and the one of the most probable component: 0.15029840771000663 0.15029840771000663\n",
      "Finished. Average log predictive probability and the one of the most probable component: 0.0499110543299222 0.0499110543299222\n"
     ]
    }
   ],
   "source": [
    "vbs_run(beam_size=1, beta=0.8, color_name='C9', marker='p', alpha=0.3, markersize=100)\n",
    "vbs_run(beam_size=1, beta=0.6, color_name='C4', marker='o', alpha=0.5, markersize=100)\n",
    "vbs_run(beam_size=1, beta=0.3, color_name='C1', marker='*', alpha=1.0, markersize=200)"
   ]
  },
  {
   "cell_type": "code",
   "execution_count": 8,
   "metadata": {},
   "outputs": [
    {
     "data": {
      "text/plain": [
       "<matplotlib.legend.Legend at 0x106a8f250>"
      ]
     },
     "execution_count": 8,
     "metadata": {},
     "output_type": "execute_result"
    }
   ],
   "source": [
    "ax.imshow(court, zorder=0, extent=[0,100,50,0])\n",
    "ax.legend(fontsize=12, loc='upper left')"
   ]
  },
  {
   "cell_type": "code",
   "execution_count": 9,
   "metadata": {},
   "outputs": [
    {
     "data": {
      "image/png": "[encoded data removed]",
      "text/plain": [
       "<Figure size 504x360 with 1 Axes>"
      ]
     },
     "execution_count": 9,
     "metadata": {},
     "output_type": "execute_result"
    }
   ],
   "source": [
    "fig"
   ]
  },
  {
   "cell_type": "code",
   "execution_count": 11,
   "metadata": {},
   "outputs": [],
   "source": [
    "# fig.savefig('./ablation.png', bbox_inches='tight')"
   ]
  },
  {
   "cell_type": "code",
   "execution_count": null,
   "metadata": {},
   "outputs": [],
   "source": []
  }
 ],
 "metadata": {
  "kernelspec": {
   "display_name": "Python 3 (ipykernel)",
   "language": "python",
   "name": "python3"
  },
  "language_info": {
   "codemirror_mode": {
    "name": "ipython",
    "version": 3
   },
   "file_extension": ".py",
   "mimetype": "text/x-python",
   "name": "python",
   "nbconvert_exporter": "python",
   "pygments_lexer": "ipython3",
   "version": "3.9.9"
  }
 },
 "nbformat": 4,
 "nbformat_minor": 2
}
